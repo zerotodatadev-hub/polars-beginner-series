{
 "cells": [
  {
   "cell_type": "markdown",
   "id": "067914b6",
   "metadata": {},
   "source": [
    "# Polars DataFrame\n",
    "\n",
    "1. Create DataFrame\n",
    "2. Fake Dataset\n",
    "3. Dataset Exploration\n",
    "4. Read & Write (I/O)\n",
    "5. I/O Pitfalls\n",
    " \n",
    "Let's start."
   ]
  },
  {
   "cell_type": "markdown",
   "id": "4e2a53ff",
   "metadata": {},
   "source": [
    "## Create DataFrame"
   ]
  },
  {
   "cell_type": "code",
   "execution_count": null,
   "id": "cb8490bf",
   "metadata": {},
   "outputs": [],
   "source": [
    "import polars as pl\n",
    "\n",
    "df = pl.DataFrame(\n",
    "    data={\n",
    "        \"numbers\": [2, 3, 4, 5, 6, 7],\n",
    "        \"characters\": [\"f\", \"g\", \"h\", \"i\", \"j\", \"k\"],\n",
    "    }\n",
    ")\n",
    "\n",
    "# no index <-> pandas \n",
    "df"
   ]
  },
  {
   "cell_type": "code",
   "execution_count": null,
   "id": "0d1b70fb",
   "metadata": {},
   "outputs": [],
   "source": [
    "# REPL returns print \n",
    "print(df)"
   ]
  },
  {
   "cell_type": "code",
   "execution_count": null,
   "id": "a60b33e3",
   "metadata": {},
   "outputs": [],
   "source": [
    "# fails: types inside column are inconsistent\n",
    "pl.DataFrame(\n",
    "    data={\n",
    "        \"numbers\": [2, \"Not a Number\", 4, 5, 6, 7],\n",
    "        \"characters\": [\"f\", \"g\", \"h\", \"i\", \"j\", \"k\"],\n",
    "    }\n",
    ")"
   ]
  },
  {
   "cell_type": "code",
   "execution_count": null,
   "id": "36855374",
   "metadata": {},
   "outputs": [],
   "source": [
    "# fails: column lengths are unequal\n",
    "pl.DataFrame(\n",
    "    data={\n",
    "        \"numbers\": [2, 3, 4, 5, 6, 7],\n",
    "        \"characters\": [\"f\", \"g\"],\n",
    "    }\n",
    ")"
   ]
  },
  {
   "cell_type": "code",
   "execution_count": null,
   "id": "d232e646",
   "metadata": {},
   "outputs": [],
   "source": [
    "# multiple different options to create DataFrame\n",
    "\n",
    "# here: data = list[tuple] \n",
    "df_2 = pl.DataFrame(\n",
    "    data=[\n",
    "        (2, \"f\"),\n",
    "        (3, \"g\"),\n",
    "        (4, \"h\"),\n",
    "        (5, \"i\"),\n",
    "        (6, \"j\"),\n",
    "        (7, \"k\"),\n",
    "    ],\n",
    "    schema=[\"numbers\", \"characters\"],\n",
    "    orient=\"row\",\n",
    ")\n",
    "df_2"
   ]
  },
  {
   "cell_type": "code",
   "execution_count": null,
   "id": "cf8019b5",
   "metadata": {},
   "outputs": [],
   "source": [
    "# here:  data = list[pl.Series]\n",
    "s1 = pl.Series(\"numbers\", [2, 3, 4, 5, 6, 7])\n",
    "s2 = pl.Series(\"characters\", [\"f\", \"g\", \"h\", \"i\", \"j\", \"k\"])\n",
    "\n",
    "df_3 = pl.DataFrame([s1, s2])\n",
    "df_3"
   ]
  },
  {
   "cell_type": "markdown",
   "id": "150a79fd",
   "metadata": {},
   "source": [
    "## Fake Dataset"
   ]
  },
  {
   "cell_type": "code",
   "execution_count": null,
   "id": "2438ba58",
   "metadata": {},
   "outputs": [],
   "source": [
    "import datetime as dt\n",
    "import random\n",
    "random.seed(42)\n",
    "\n",
    "def create_coffee_sales_data(n_rows:int=1000) -> list[tuple]:\n",
    "    # define base data\n",
    "    drinks = [\"cappuccino\", \"water\", \"espresso\", \"tea\", \"lemonade\"]\n",
    "    prices = {\"cappuccino\": 3.5, \"water\": 2.0, \"espresso\": 3.0, \"tea\": 2.5, \"lemonade\": 3.0}\n",
    "\n",
    "    # define time range\n",
    "    start = dt.datetime(2025, 8, 1)\n",
    "    end = dt.datetime(2025, 9, 30)\n",
    "    delta_days = (end - start).days\n",
    "\n",
    "    # generate rows of fake data\n",
    "    data = [] # container\n",
    "    for _ in range(n_rows):\n",
    "        # pick a random drink\n",
    "        drink = random.choice(drinks) \n",
    "\n",
    "        # retrieve correct price\n",
    "        price = prices[drink]\n",
    "\n",
    "        # random date after start\n",
    "        timestamp = start + dt.timedelta(\n",
    "            days=random.randint(0, delta_days)  \n",
    "        )\n",
    "\n",
    "        # add row to data\n",
    "        data.append((drink, price, timestamp))\n",
    "\n",
    "    return data"
   ]
  },
  {
   "cell_type": "code",
   "execution_count": null,
   "id": "d0186de2",
   "metadata": {},
   "outputs": [],
   "source": [
    "data = create_coffee_sales_data(n_rows=1_000)\n",
    "data[0]"
   ]
  },
  {
   "cell_type": "code",
   "execution_count": null,
   "id": "20e74c9a",
   "metadata": {},
   "outputs": [],
   "source": [
    "# create a Polars DataFrame\n",
    "coffee_sales = pl.DataFrame(data, schema=[\"drink\", \"price\", \"timestamp\"], orient='row')\n",
    "\n",
    "# simple return: shows start and end of dataset\n",
    "coffee_sales"
   ]
  },
  {
   "cell_type": "markdown",
   "id": "26f5b0b7",
   "metadata": {},
   "source": [
    "## Dataset Exploration"
   ]
  },
  {
   "cell_type": "code",
   "execution_count": null,
   "id": "de64d332",
   "metadata": {},
   "outputs": [],
   "source": [
    "# polars datatypes\n",
    "# full overview:\n",
    "# https://docs.pola.rs/user-guide/concepts/data-types-and-structures/#data-types-internals\n",
    "coffee_sales"
   ]
  },
  {
   "cell_type": "code",
   "execution_count": null,
   "id": "3313f559",
   "metadata": {},
   "outputs": [],
   "source": [
    "# show the first few rows\n",
    "# similar to pandas\n",
    "first_elements = coffee_sales.head()\n",
    "first_elements"
   ]
  },
  {
   "cell_type": "code",
   "execution_count": null,
   "id": "cbd5ece2",
   "metadata": {},
   "outputs": [],
   "source": [
    "# show the last 3 rows\n",
    "last_elements = coffee_sales.tail(3)\n",
    "last_elements"
   ]
  },
  {
   "cell_type": "code",
   "execution_count": null,
   "id": "b5289dcd",
   "metadata": {},
   "outputs": [],
   "source": [
    "# handy one-liner useful for many columns in REPL \n",
    "coffee_sales.glimpse(max_items_per_column=2)"
   ]
  },
  {
   "cell_type": "markdown",
   "id": "cf89e9ae",
   "metadata": {},
   "source": [
    "DataFrame attributes"
   ]
  },
  {
   "cell_type": "code",
   "execution_count": null,
   "id": "9de4e0fa",
   "metadata": {},
   "outputs": [],
   "source": [
    "coffee_sales.columns"
   ]
  },
  {
   "cell_type": "code",
   "execution_count": null,
   "id": "67eba38d",
   "metadata": {},
   "outputs": [],
   "source": [
    "coffee_sales.dtypes"
   ]
  },
  {
   "cell_type": "code",
   "execution_count": null,
   "id": "cf66f442",
   "metadata": {},
   "outputs": [],
   "source": [
    "schema = coffee_sales.schema\n",
    "schema"
   ]
  },
  {
   "cell_type": "code",
   "execution_count": null,
   "id": "6c9b526b",
   "metadata": {},
   "outputs": [],
   "source": [
    "# access data type for column\n",
    "schema[\"drink\"]"
   ]
  },
  {
   "cell_type": "code",
   "execution_count": null,
   "id": "e5505565",
   "metadata": {},
   "outputs": [],
   "source": [
    "# (rows, cols)\n",
    "coffee_sales.shape"
   ]
  },
  {
   "cell_type": "code",
   "execution_count": null,
   "id": "ac3b23dd",
   "metadata": {},
   "outputs": [],
   "source": [
    "# most powerful insight -> basic statistics\n",
    "# similar to pandas\n",
    "coffee_sales.describe()"
   ]
  },
  {
   "cell_type": "markdown",
   "id": "3b464458",
   "metadata": {},
   "source": [
    "## Read & Write (I/O)"
   ]
  },
  {
   "cell_type": "code",
   "execution_count": null,
   "id": "0e95e910",
   "metadata": {},
   "outputs": [],
   "source": [
    "coffee_sales"
   ]
  },
  {
   "cell_type": "code",
   "execution_count": null,
   "id": "b7dc02fd",
   "metadata": {},
   "outputs": [],
   "source": [
    "# write csv file\n",
    "csv_path =  \"coffee_sales.csv\"\n",
    "coffee_sales.write_csv(csv_path)"
   ]
  },
  {
   "cell_type": "code",
   "execution_count": null,
   "id": "00b1a2af",
   "metadata": {},
   "outputs": [],
   "source": [
    "# read csv\n",
    "csv_read = pl.read_csv(csv_path)\n",
    "csv_read"
   ]
  },
  {
   "cell_type": "code",
   "execution_count": null,
   "id": "f1bd2d1e",
   "metadata": {},
   "outputs": [],
   "source": [
    "# write parquet file\n",
    "parquet_path = \"coffee_sales.parquet\"\n",
    "coffee_sales.write_parquet(file=parquet_path)"
   ]
  },
  {
   "cell_type": "code",
   "execution_count": null,
   "id": "08707434",
   "metadata": {},
   "outputs": [],
   "source": [
    "# read parquet file\n",
    "parquet_read = pl.read_parquet(parquet_path)\n",
    "parquet_read"
   ]
  },
  {
   "cell_type": "markdown",
   "id": "128ccf6a",
   "metadata": {},
   "source": [
    "## I/O Pitfalls"
   ]
  },
  {
   "cell_type": "code",
   "execution_count": null,
   "id": "c55006d6",
   "metadata": {},
   "outputs": [],
   "source": [
    "# check that files are equal\n",
    "from polars.testing import assert_frame_equal\n",
    "\n",
    "assert_frame_equal(csv_read, parquet_read)"
   ]
  },
  {
   "cell_type": "code",
   "execution_count": null,
   "id": "0508d43d",
   "metadata": {},
   "outputs": [],
   "source": [
    "print(csv_read.head(2))\n",
    "print(parquet_read.head(2))"
   ]
  },
  {
   "cell_type": "code",
   "execution_count": null,
   "id": "64560973",
   "metadata": {},
   "outputs": [],
   "source": [
    "# Tip: if possible use parquet files\n",
    "# + maintain schema \n",
    "# + save disk space "
   ]
  },
  {
   "cell_type": "code",
   "execution_count": null,
   "id": "7dbd7ca4",
   "metadata": {},
   "outputs": [],
   "source": [
    "# csv files loose schema information\n",
    "# we can explicitly enforce it during reading\n",
    "csv_corrected = pl.read_csv(\n",
    "    csv_path,\n",
    "    schema={\"drink\": pl.String, \"price\": pl.Float64, \"timestamp\": pl.Datetime()},\n",
    ")\n",
    "\n",
    "assert_frame_equal(csv_corrected, parquet_read)\n",
    "csv_corrected.head(2)\n"
   ]
  },
  {
   "cell_type": "markdown",
   "id": "694f3150",
   "metadata": {},
   "source": [
    "## Wrap up"
   ]
  },
  {
   "cell_type": "code",
   "execution_count": null,
   "id": "2aa51ed8",
   "metadata": {},
   "outputs": [],
   "source": [
    "print(\"Done - Happy Coding!\")"
   ]
  }
 ],
 "metadata": {
  "kernelspec": {
   "display_name": "polars-beginner-series",
   "language": "python",
   "name": "python3"
  },
  "language_info": {
   "codemirror_mode": {
    "name": "ipython",
    "version": 3
   },
   "file_extension": ".py",
   "mimetype": "text/x-python",
   "name": "python",
   "nbconvert_exporter": "python",
   "pygments_lexer": "ipython3",
   "version": "3.13.8"
  }
 },
 "nbformat": 4,
 "nbformat_minor": 5
}

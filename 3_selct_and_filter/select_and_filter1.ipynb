{
 "cells": [
  {
   "cell_type": "markdown",
   "id": "8694b529",
   "metadata": {},
   "source": [
    "# Polars Select & Filter\n",
    "\n",
    "- Column Selection\n",
    "- Row Filtering\n",
    "- Chaining Operations\n",
    "\n",
    "Goal: select columns and filter rows with expressions."
   ]
  },
  {
   "cell_type": "markdown",
   "id": "1747ad36",
   "metadata": {},
   "source": [
    "## Column Selection\n"
   ]
  },
  {
   "cell_type": "code",
   "execution_count": 24,
   "id": "a8718c53",
   "metadata": {},
   "outputs": [],
   "source": [
    "import polars as pl\n",
    "\n",
    "df = pl.DataFrame(\n",
    "    data={\n",
    "        \"name\": [\"James\", \"Mary\", \"Tom\", \"Mary\"],\n",
    "        \"age\": [38, 24, 45, 19],\n",
    "        \"level\":['beginner','advanced','intermediate','intermediate']\n",
    "    }\n",
    ")"
   ]
  },
  {
   "cell_type": "code",
   "execution_count": 25,
   "id": "637de0cd",
   "metadata": {},
   "outputs": [
    {
     "data": {
      "text/html": [
       "<div><style>\n",
       ".dataframe > thead > tr,\n",
       ".dataframe > tbody > tr {\n",
       "  text-align: right;\n",
       "  white-space: pre-wrap;\n",
       "}\n",
       "</style>\n",
       "<small>shape: (4, 2)</small><table border=\"1\" class=\"dataframe\"><thead><tr><th>name</th><th>age</th></tr><tr><td>str</td><td>i64</td></tr></thead><tbody><tr><td>&quot;James&quot;</td><td>38</td></tr><tr><td>&quot;Mary&quot;</td><td>24</td></tr><tr><td>&quot;Tom&quot;</td><td>45</td></tr><tr><td>&quot;Mary&quot;</td><td>19</td></tr></tbody></table></div>"
      ],
      "text/plain": [
       "shape: (4, 2)\n",
       "┌───────┬─────┐\n",
       "│ name  ┆ age │\n",
       "│ ---   ┆ --- │\n",
       "│ str   ┆ i64 │\n",
       "╞═══════╪═════╡\n",
       "│ James ┆ 38  │\n",
       "│ Mary  ┆ 24  │\n",
       "│ Tom   ┆ 45  │\n",
       "│ Mary  ┆ 19  │\n",
       "└───────┴─────┘"
      ]
     },
     "execution_count": 25,
     "metadata": {},
     "output_type": "execute_result"
    }
   ],
   "source": [
    "# pandas-like works, but it is not the Polars way\n",
    "df[[\"name\", \"age\"]]"
   ]
  },
  {
   "cell_type": "code",
   "execution_count": 26,
   "id": "0473ab31",
   "metadata": {},
   "outputs": [
    {
     "data": {
      "text/html": [
       "<div><style>\n",
       ".dataframe > thead > tr,\n",
       ".dataframe > tbody > tr {\n",
       "  text-align: right;\n",
       "  white-space: pre-wrap;\n",
       "}\n",
       "</style>\n",
       "<small>shape: (4, 2)</small><table border=\"1\" class=\"dataframe\"><thead><tr><th>age</th><th>name</th></tr><tr><td>i64</td><td>str</td></tr></thead><tbody><tr><td>38</td><td>&quot;James&quot;</td></tr><tr><td>24</td><td>&quot;Mary&quot;</td></tr><tr><td>45</td><td>&quot;Tom&quot;</td></tr><tr><td>19</td><td>&quot;Mary&quot;</td></tr></tbody></table></div>"
      ],
      "text/plain": [
       "shape: (4, 2)\n",
       "┌─────┬───────┐\n",
       "│ age ┆ name  │\n",
       "│ --- ┆ ---   │\n",
       "│ i64 ┆ str   │\n",
       "╞═════╪═══════╡\n",
       "│ 38  ┆ James │\n",
       "│ 24  ┆ Mary  │\n",
       "│ 45  ┆ Tom   │\n",
       "│ 19  ┆ Mary  │\n",
       "└─────┴───────┘"
      ]
     },
     "execution_count": 26,
     "metadata": {},
     "output_type": "execute_result"
    }
   ],
   "source": [
    "# prefer Polars `.select` context\n",
    "\n",
    "# different options work\n",
    "\n",
    "# string-based\n",
    "df.select(\"name\", \"age\")\n",
    "\n",
    "# idiomatic with column expression  \n",
    "# is recommended\n",
    "df.select(pl.col(\"age\"), pl.col(\"name\"))"
   ]
  },
  {
   "cell_type": "code",
   "execution_count": 27,
   "id": "00db0ed3",
   "metadata": {},
   "outputs": [
    {
     "data": {
      "text/html": [
       "cs.by_name('name', 'age', require_all=true)"
      ],
      "text/plain": [
       "<Expr [\"cs.by_name('name', 'age', requ…\"] at 0x76B51964B150>"
      ]
     },
     "execution_count": 27,
     "metadata": {},
     "output_type": "execute_result"
    }
   ],
   "source": [
    "# expressions tell Polars WHAT to do\n",
    "# and are declarative\n",
    "col_expression = pl.col(\"name\", \"age\")\n",
    "col_expression"
   ]
  },
  {
   "cell_type": "code",
   "execution_count": 28,
   "id": "b7c62866",
   "metadata": {},
   "outputs": [
    {
     "data": {
      "text/html": [
       "<div><style>\n",
       ".dataframe > thead > tr,\n",
       ".dataframe > tbody > tr {\n",
       "  text-align: right;\n",
       "  white-space: pre-wrap;\n",
       "}\n",
       "</style>\n",
       "<small>shape: (4, 2)</small><table border=\"1\" class=\"dataframe\"><thead><tr><th>name</th><th>age</th></tr><tr><td>str</td><td>i64</td></tr></thead><tbody><tr><td>&quot;James&quot;</td><td>38</td></tr><tr><td>&quot;Mary&quot;</td><td>24</td></tr><tr><td>&quot;Tom&quot;</td><td>45</td></tr><tr><td>&quot;Mary&quot;</td><td>19</td></tr></tbody></table></div>"
      ],
      "text/plain": [
       "shape: (4, 2)\n",
       "┌───────┬─────┐\n",
       "│ name  ┆ age │\n",
       "│ ---   ┆ --- │\n",
       "│ str   ┆ i64 │\n",
       "╞═══════╪═════╡\n",
       "│ James ┆ 38  │\n",
       "│ Mary  ┆ 24  │\n",
       "│ Tom   ┆ 45  │\n",
       "│ Mary  ┆ 19  │\n",
       "└───────┴─────┘"
      ]
     },
     "execution_count": 28,
     "metadata": {},
     "output_type": "execute_result"
    }
   ],
   "source": [
    "# the context `select` sets the scope\n",
    "# and executes\n",
    "df.select(col_expression)"
   ]
  },
  {
   "cell_type": "code",
   "execution_count": 29,
   "id": "4c212cf6",
   "metadata": {},
   "outputs": [
    {
     "data": {
      "text/html": [
       "<div><style>\n",
       ".dataframe > thead > tr,\n",
       ".dataframe > tbody > tr {\n",
       "  text-align: right;\n",
       "  white-space: pre-wrap;\n",
       "}\n",
       "</style>\n",
       "<small>shape: (4, 1)</small><table border=\"1\" class=\"dataframe\"><thead><tr><th>name</th></tr><tr><td>str</td></tr></thead><tbody><tr><td>&quot;James&quot;</td></tr><tr><td>&quot;Mary&quot;</td></tr><tr><td>&quot;Tom&quot;</td></tr><tr><td>&quot;Mary&quot;</td></tr></tbody></table></div>"
      ],
      "text/plain": [
       "shape: (4, 1)\n",
       "┌───────┐\n",
       "│ name  │\n",
       "│ ---   │\n",
       "│ str   │\n",
       "╞═══════╡\n",
       "│ James │\n",
       "│ Mary  │\n",
       "│ Tom   │\n",
       "│ Mary  │\n",
       "└───────┘"
      ]
     },
     "execution_count": 29,
     "metadata": {},
     "output_type": "execute_result"
    }
   ],
   "source": [
    "# pl.col() powers selection\n",
    "\n",
    "# by column name pattern\n",
    "df.select(pl.col(\"^na.*$\"))        # regex: start with 'na'\n"
   ]
  },
  {
   "cell_type": "code",
   "execution_count": 30,
   "id": "f629181c",
   "metadata": {},
   "outputs": [
    {
     "data": {
      "text/html": [
       "<div><style>\n",
       ".dataframe > thead > tr,\n",
       ".dataframe > tbody > tr {\n",
       "  text-align: right;\n",
       "  white-space: pre-wrap;\n",
       "}\n",
       "</style>\n",
       "<small>shape: (4, 1)</small><table border=\"1\" class=\"dataframe\"><thead><tr><th>age</th></tr><tr><td>i64</td></tr></thead><tbody><tr><td>38</td></tr><tr><td>24</td></tr><tr><td>45</td></tr><tr><td>19</td></tr></tbody></table></div>"
      ],
      "text/plain": [
       "shape: (4, 1)\n",
       "┌─────┐\n",
       "│ age │\n",
       "│ --- │\n",
       "│ i64 │\n",
       "╞═════╡\n",
       "│ 38  │\n",
       "│ 24  │\n",
       "│ 45  │\n",
       "│ 19  │\n",
       "└─────┘"
      ]
     },
     "execution_count": 30,
     "metadata": {},
     "output_type": "execute_result"
    }
   ],
   "source": [
    "# by dtype\n",
    "# supports multiple dtypes pl.col(pl.Int64,pl.Float64)\n",
    "df.select(pl.col(pl.Int64))\n"
   ]
  },
  {
   "cell_type": "code",
   "execution_count": 31,
   "id": "d0b9b757",
   "metadata": {},
   "outputs": [
    {
     "data": {
      "text/html": [
       "<div><style>\n",
       ".dataframe > thead > tr,\n",
       ".dataframe > tbody > tr {\n",
       "  text-align: right;\n",
       "  white-space: pre-wrap;\n",
       "}\n",
       "</style>\n",
       "<small>shape: (4, 3)</small><table border=\"1\" class=\"dataframe\"><thead><tr><th>name</th><th>age</th><th>level</th></tr><tr><td>str</td><td>i64</td><td>str</td></tr></thead><tbody><tr><td>&quot;James&quot;</td><td>38</td><td>&quot;beginner&quot;</td></tr><tr><td>&quot;Mary&quot;</td><td>24</td><td>&quot;advanced&quot;</td></tr><tr><td>&quot;Tom&quot;</td><td>45</td><td>&quot;intermediate&quot;</td></tr><tr><td>&quot;Mary&quot;</td><td>19</td><td>&quot;intermediate&quot;</td></tr></tbody></table></div>"
      ],
      "text/plain": [
       "shape: (4, 3)\n",
       "┌───────┬─────┬──────────────┐\n",
       "│ name  ┆ age ┆ level        │\n",
       "│ ---   ┆ --- ┆ ---          │\n",
       "│ str   ┆ i64 ┆ str          │\n",
       "╞═══════╪═════╪══════════════╡\n",
       "│ James ┆ 38  ┆ beginner     │\n",
       "│ Mary  ┆ 24  ┆ advanced     │\n",
       "│ Tom   ┆ 45  ┆ intermediate │\n",
       "│ Mary  ┆ 19  ┆ intermediate │\n",
       "└───────┴─────┴──────────────┘"
      ]
     },
     "execution_count": 31,
     "metadata": {},
     "output_type": "execute_result"
    }
   ],
   "source": [
    "# `.select` context returns a NEW DataFrame\n",
    "# syntactic sugar for pl.col('*')\n",
    "selection = df.select(pl.all())\n",
    "selection"
   ]
  },
  {
   "cell_type": "code",
   "execution_count": 32,
   "id": "2a910626",
   "metadata": {},
   "outputs": [
    {
     "name": "stdout",
     "output_type": "stream",
     "text": [
      "Is same object? False\n"
     ]
    }
   ],
   "source": [
    "# dataframes are different -> no inplace mutations\n",
    "df is selection\n",
    "print(\"Is same object?\", df is selection)  # expect False"
   ]
  },
  {
   "cell_type": "code",
   "execution_count": 56,
   "id": "e915ea7a",
   "metadata": {},
   "outputs": [
    {
     "data": {
      "text/html": [
       "col(\"age\").mean().alias(\"average_age\")"
      ],
      "text/plain": [
       "<Expr ['col(\"age\").mean().alias(\"avera…'] at 0x76B518512D50>"
      ]
     },
     "execution_count": 56,
     "metadata": {},
     "output_type": "execute_result"
    }
   ],
   "source": [
    "# expression allow more than pure column selection\n",
    "average_age = pl.col(\"age\").mean().alias(\"average_age\")\n",
    "average_age"
   ]
  },
  {
   "cell_type": "code",
   "execution_count": null,
   "id": "8e2e16a6",
   "metadata": {},
   "outputs": [
    {
     "data": {
      "text/html": [
       "<div><style>\n",
       ".dataframe > thead > tr,\n",
       ".dataframe > tbody > tr {\n",
       "  text-align: right;\n",
       "  white-space: pre-wrap;\n",
       "}\n",
       "</style>\n",
       "<small>shape: (1, 2)</small><table border=\"1\" class=\"dataframe\"><thead><tr><th>average_age</th><th>most_frequent_name</th></tr><tr><td>f64</td><td>str</td></tr></thead><tbody><tr><td>31.5</td><td>&quot;Mary&quot;</td></tr></tbody></table></div>"
      ],
      "text/plain": [
       "shape: (1, 2)\n",
       "┌─────────────┬────────────────────┐\n",
       "│ average_age ┆ most_frequent_name │\n",
       "│ ---         ┆ ---                │\n",
       "│ f64         ┆ str                │\n",
       "╞═════════════╪════════════════════╡\n",
       "│ 31.5        ┆ Mary               │\n",
       "└─────────────┴────────────────────┘"
      ]
     },
     "execution_count": 57,
     "metadata": {},
     "output_type": "execute_result"
    }
   ],
   "source": [
    "# 1. `.select` can return DataFrame of any shape\n",
    "#\n",
    "# 2. expressions allow to compose\n",
    "# complex actions\n",
    "most_frequent_name = pl.col('name').mode().alias('most_frequent_name')\n",
    "\n",
    "df.select(average_age, most_frequent_name)"
   ]
  },
  {
   "cell_type": "code",
   "execution_count": null,
   "id": "521d5310",
   "metadata": {},
   "outputs": [
    {
     "data": {
      "text/html": [
       "<div><style>\n",
       ".dataframe > thead > tr,\n",
       ".dataframe > tbody > tr {\n",
       "  text-align: right;\n",
       "  white-space: pre-wrap;\n",
       "}\n",
       "</style>\n",
       "<small>shape: (4, 3)</small><table border=\"1\" class=\"dataframe\"><thead><tr><th>name</th><th>corrected_age</th><th>participants</th></tr><tr><td>str</td><td>i64</td><td>str</td></tr></thead><tbody><tr><td>&quot;James&quot;</td><td>40</td><td>&quot;Lesson 3&quot;</td></tr><tr><td>&quot;Mary&quot;</td><td>26</td><td>&quot;Lesson 3&quot;</td></tr><tr><td>&quot;Tom&quot;</td><td>47</td><td>&quot;Lesson 3&quot;</td></tr><tr><td>&quot;Mary&quot;</td><td>21</td><td>&quot;Lesson 3&quot;</td></tr></tbody></table></div>"
      ],
      "text/plain": [
       "shape: (4, 3)\n",
       "┌───────┬───────────────┬──────────────┐\n",
       "│ name  ┆ corrected_age ┆ participants │\n",
       "│ ---   ┆ ---           ┆ ---          │\n",
       "│ str   ┆ i64           ┆ str          │\n",
       "╞═══════╪═══════════════╪══════════════╡\n",
       "│ James ┆ 40            ┆ Lesson 3     │\n",
       "│ Mary  ┆ 26            ┆ Lesson 3     │\n",
       "│ Tom   ┆ 47            ┆ Lesson 3     │\n",
       "│ Mary  ┆ 21            ┆ Lesson 3     │\n",
       "└───────┴───────────────┴──────────────┘"
      ]
     },
     "execution_count": 35,
     "metadata": {},
     "output_type": "execute_result"
    }
   ],
   "source": [
    "# create columns on the fly\n",
    "df.select(\n",
    "    \n",
    "    # selection\n",
    "    pl.col('name'),\n",
    "\n",
    "    # modify columns\n",
    "    (pl.col('age') + 2).alias('corrected_age'),\n",
    "\n",
    "    # add new column\n",
    "    pl.lit(\"Lesson 3\").alias('participants'),\n",
    ")"
   ]
  },
  {
   "cell_type": "markdown",
   "id": "511d8a8a",
   "metadata": {},
   "source": [
    "## Row Filtering\n"
   ]
  },
  {
   "cell_type": "code",
   "execution_count": 53,
   "id": "82719fae",
   "metadata": {},
   "outputs": [
    {
     "name": "stdout",
     "output_type": "stream",
     "text": [
      "Length of full DataFrame: 1000\n"
     ]
    },
    {
     "data": {
      "text/html": [
       "<div><style>\n",
       ".dataframe > thead > tr,\n",
       ".dataframe > tbody > tr {\n",
       "  text-align: right;\n",
       "  white-space: pre-wrap;\n",
       "}\n",
       "</style>\n",
       "<small>shape: (8, 4)</small><table border=\"1\" class=\"dataframe\"><thead><tr><th>drink</th><th>price</th><th>timestamp</th><th>city</th></tr><tr><td>str</td><td>f64</td><td>datetime[μs]</td><td>str</td></tr></thead><tbody><tr><td>&quot;cappuccino&quot;</td><td>3.5</td><td>2025-09-17 08:15:00</td><td>&quot;New York&quot;</td></tr><tr><td>&quot;water&quot;</td><td>2.0</td><td>2025-09-17 03:43:00</td><td>&quot;Los Angeles&quot;</td></tr><tr><td>&quot;lemonade&quot;</td><td>3.0</td><td>2025-09-07 13:02:00</td><td>&quot;New York&quot;</td></tr><tr><td>&quot;cappuccino&quot;</td><td>3.5</td><td>2025-08-14 07:32:00</td><td>&quot;New York&quot;</td></tr><tr><td>&quot;lemonade&quot;</td><td>3.0</td><td>2025-09-05 06:45:00</td><td>&quot;New York&quot;</td></tr><tr><td>&quot;lemonade&quot;</td><td>3.0</td><td>2025-08-15 14:37:00</td><td>&quot;Austin&quot;</td></tr><tr><td>&quot;espresso&quot;</td><td>3.0</td><td>2025-09-18 05:44:00</td><td>&quot;New York&quot;</td></tr><tr><td>&quot;tea&quot;</td><td>2.5</td><td>2025-08-18 04:13:00</td><td>&quot;San Francisco&quot;</td></tr></tbody></table></div>"
      ],
      "text/plain": [
       "shape: (8, 4)\n",
       "┌────────────┬───────┬─────────────────────┬───────────────┐\n",
       "│ drink      ┆ price ┆ timestamp           ┆ city          │\n",
       "│ ---        ┆ ---   ┆ ---                 ┆ ---           │\n",
       "│ str        ┆ f64   ┆ datetime[μs]        ┆ str           │\n",
       "╞════════════╪═══════╪═════════════════════╪═══════════════╡\n",
       "│ cappuccino ┆ 3.5   ┆ 2025-09-17 08:15:00 ┆ New York      │\n",
       "│ water      ┆ 2.0   ┆ 2025-09-17 03:43:00 ┆ Los Angeles   │\n",
       "│ lemonade   ┆ 3.0   ┆ 2025-09-07 13:02:00 ┆ New York      │\n",
       "│ cappuccino ┆ 3.5   ┆ 2025-08-14 07:32:00 ┆ New York      │\n",
       "│ lemonade   ┆ 3.0   ┆ 2025-09-05 06:45:00 ┆ New York      │\n",
       "│ lemonade   ┆ 3.0   ┆ 2025-08-15 14:37:00 ┆ Austin        │\n",
       "│ espresso   ┆ 3.0   ┆ 2025-09-18 05:44:00 ┆ New York      │\n",
       "│ tea        ┆ 2.5   ┆ 2025-08-18 04:13:00 ┆ San Francisco │\n",
       "└────────────┴───────┴─────────────────────┴───────────────┘"
      ]
     },
     "execution_count": 53,
     "metadata": {},
     "output_type": "execute_result"
    }
   ],
   "source": [
    "import polars as pl\n",
    "from pathlib import Path\n",
    "\n",
    "if Path(\"coffee_sales.parquet\").exists():\n",
    "    coffee_sales = pl.read_parquet(\"coffee_sales.parquet\")\n",
    "else:\n",
    "    # minimal inline dataset so the lesson is self-contained\n",
    "    coffee_sales = pl.DataFrame(\n",
    "        {\n",
    "            \"drink\": [\"espresso\", \"water\", \"espresso\", \"water\", \"latte\", \"tea\"],\n",
    "            \"price\": [3.5, 2.0, 3.5, 2.0, 4.0, 2.5],\n",
    "            \"timestamp\": pl.datetime_range(\n",
    "                start=pl.datetime(2024, 1, 1),\n",
    "                end=pl.datetime(2024, 1, 6),\n",
    "                interval=\"1d\",\n",
    "                eager=True,\n",
    "            ),\n",
    "            \"city\": [\n",
    "                \"Berlin\",\n",
    "                \"Austin\",\n",
    "                \"New York\",\n",
    "                \"Los Angeles\",\n",
    "                \"Austin\",\n",
    "                \"San Francisco\"\n",
    "            ],\n",
    "        }\n",
    "    )\n",
    "\n",
    "print(f\"Length of full DataFrame: {len(coffee_sales)}\")\n",
    "coffee_sales.head(8)\n"
   ]
  },
  {
   "cell_type": "code",
   "execution_count": 51,
   "id": "3eb07922",
   "metadata": {},
   "outputs": [
    {
     "name": "stdout",
     "output_type": "stream",
     "text": [
      "Length of full DataFrame: 1000\n",
      "Length of filtered DataFrame: 202\n"
     ]
    },
    {
     "data": {
      "text/html": [
       "<div><style>\n",
       ".dataframe > thead > tr,\n",
       ".dataframe > tbody > tr {\n",
       "  text-align: right;\n",
       "  white-space: pre-wrap;\n",
       "}\n",
       "</style>\n",
       "<small>shape: (202, 4)</small><table border=\"1\" class=\"dataframe\"><thead><tr><th>drink</th><th>price</th><th>timestamp</th><th>city</th></tr><tr><td>str</td><td>f64</td><td>datetime[μs]</td><td>str</td></tr></thead><tbody><tr><td>&quot;water&quot;</td><td>2.0</td><td>2025-09-17 03:43:00</td><td>&quot;Los Angeles&quot;</td></tr><tr><td>&quot;water&quot;</td><td>2.0</td><td>2025-09-17 18:27:00</td><td>&quot;San Francisco&quot;</td></tr><tr><td>&quot;water&quot;</td><td>2.0</td><td>2025-09-08 10:31:00</td><td>&quot;New York&quot;</td></tr><tr><td>&quot;water&quot;</td><td>2.0</td><td>2025-08-26 21:41:00</td><td>&quot;San Francisco&quot;</td></tr><tr><td>&quot;water&quot;</td><td>2.0</td><td>2025-09-07 23:34:00</td><td>&quot;New York&quot;</td></tr><tr><td>&hellip;</td><td>&hellip;</td><td>&hellip;</td><td>&hellip;</td></tr><tr><td>&quot;water&quot;</td><td>2.0</td><td>2025-09-24 15:55:00</td><td>&quot;Austin&quot;</td></tr><tr><td>&quot;water&quot;</td><td>2.0</td><td>2025-09-18 15:20:00</td><td>&quot;New York&quot;</td></tr><tr><td>&quot;water&quot;</td><td>2.0</td><td>2025-08-18 01:32:00</td><td>&quot;San Francisco&quot;</td></tr><tr><td>&quot;water&quot;</td><td>2.0</td><td>2025-08-26 07:05:00</td><td>&quot;Austin&quot;</td></tr><tr><td>&quot;water&quot;</td><td>2.0</td><td>2025-09-30 10:23:00</td><td>&quot;Austin&quot;</td></tr></tbody></table></div>"
      ],
      "text/plain": [
       "shape: (202, 4)\n",
       "┌───────┬───────┬─────────────────────┬───────────────┐\n",
       "│ drink ┆ price ┆ timestamp           ┆ city          │\n",
       "│ ---   ┆ ---   ┆ ---                 ┆ ---           │\n",
       "│ str   ┆ f64   ┆ datetime[μs]        ┆ str           │\n",
       "╞═══════╪═══════╪═════════════════════╪═══════════════╡\n",
       "│ water ┆ 2.0   ┆ 2025-09-17 03:43:00 ┆ Los Angeles   │\n",
       "│ water ┆ 2.0   ┆ 2025-09-17 18:27:00 ┆ San Francisco │\n",
       "│ water ┆ 2.0   ┆ 2025-09-08 10:31:00 ┆ New York      │\n",
       "│ water ┆ 2.0   ┆ 2025-08-26 21:41:00 ┆ San Francisco │\n",
       "│ water ┆ 2.0   ┆ 2025-09-07 23:34:00 ┆ New York      │\n",
       "│ …     ┆ …     ┆ …                   ┆ …             │\n",
       "│ water ┆ 2.0   ┆ 2025-09-24 15:55:00 ┆ Austin        │\n",
       "│ water ┆ 2.0   ┆ 2025-09-18 15:20:00 ┆ New York      │\n",
       "│ water ┆ 2.0   ┆ 2025-08-18 01:32:00 ┆ San Francisco │\n",
       "│ water ┆ 2.0   ┆ 2025-08-26 07:05:00 ┆ Austin        │\n",
       "│ water ┆ 2.0   ┆ 2025-09-30 10:23:00 ┆ Austin        │\n",
       "└───────┴───────┴─────────────────────┴───────────────┘"
      ]
     },
     "execution_count": 51,
     "metadata": {},
     "output_type": "execute_result"
    }
   ],
   "source": [
    "# `.filter()` returns DataFrame\n",
    "\n",
    "# supported comparisons\n",
    "# < > <= >= == !=\n",
    "water_sales = coffee_sales.filter(pl.col(\"drink\") == \"water\")\n",
    "print(f\"Length of full DataFrame: {len(coffee_sales)}\")\n",
    "print(f\"Length of filtered DataFrame: {len(water_sales)}\")\n",
    "water_sales\n"
   ]
  },
  {
   "cell_type": "code",
   "execution_count": 38,
   "id": "262b50bf",
   "metadata": {},
   "outputs": [
    {
     "data": {
      "text/html": [
       "<div><style>\n",
       ".dataframe > thead > tr,\n",
       ".dataframe > tbody > tr {\n",
       "  text-align: right;\n",
       "  white-space: pre-wrap;\n",
       "}\n",
       "</style>\n",
       "<small>shape: (761, 4)</small><table border=\"1\" class=\"dataframe\"><thead><tr><th>drink</th><th>price</th><th>timestamp</th><th>city</th></tr><tr><td>str</td><td>f64</td><td>datetime[μs]</td><td>str</td></tr></thead><tbody><tr><td>&quot;cappuccino&quot;</td><td>3.5</td><td>2025-09-17 08:15:00</td><td>&quot;New York&quot;</td></tr><tr><td>&quot;lemonade&quot;</td><td>3.0</td><td>2025-09-07 13:02:00</td><td>&quot;New York&quot;</td></tr><tr><td>&quot;cappuccino&quot;</td><td>3.5</td><td>2025-08-14 07:32:00</td><td>&quot;New York&quot;</td></tr><tr><td>&quot;lemonade&quot;</td><td>3.0</td><td>2025-09-05 06:45:00</td><td>&quot;New York&quot;</td></tr><tr><td>&quot;lemonade&quot;</td><td>3.0</td><td>2025-08-15 14:37:00</td><td>&quot;Austin&quot;</td></tr><tr><td>&hellip;</td><td>&hellip;</td><td>&hellip;</td><td>&hellip;</td></tr><tr><td>&quot;lemonade&quot;</td><td>3.0</td><td>2025-09-26 16:35:00</td><td>&quot;San Francisco&quot;</td></tr><tr><td>&quot;water&quot;</td><td>2.0</td><td>2025-09-30 10:23:00</td><td>&quot;Austin&quot;</td></tr><tr><td>&quot;lemonade&quot;</td><td>3.0</td><td>2025-09-15 21:23:00</td><td>&quot;Austin&quot;</td></tr><tr><td>&quot;tea&quot;</td><td>2.5</td><td>2025-08-07 21:14:00</td><td>&quot;New York&quot;</td></tr><tr><td>&quot;cappuccino&quot;</td><td>3.5</td><td>2025-08-23 20:51:00</td><td>&quot;San Francisco&quot;</td></tr></tbody></table></div>"
      ],
      "text/plain": [
       "shape: (761, 4)\n",
       "┌────────────┬───────┬─────────────────────┬───────────────┐\n",
       "│ drink      ┆ price ┆ timestamp           ┆ city          │\n",
       "│ ---        ┆ ---   ┆ ---                 ┆ ---           │\n",
       "│ str        ┆ f64   ┆ datetime[μs]        ┆ str           │\n",
       "╞════════════╪═══════╪═════════════════════╪═══════════════╡\n",
       "│ cappuccino ┆ 3.5   ┆ 2025-09-17 08:15:00 ┆ New York      │\n",
       "│ lemonade   ┆ 3.0   ┆ 2025-09-07 13:02:00 ┆ New York      │\n",
       "│ cappuccino ┆ 3.5   ┆ 2025-08-14 07:32:00 ┆ New York      │\n",
       "│ lemonade   ┆ 3.0   ┆ 2025-09-05 06:45:00 ┆ New York      │\n",
       "│ lemonade   ┆ 3.0   ┆ 2025-08-15 14:37:00 ┆ Austin        │\n",
       "│ …          ┆ …     ┆ …                   ┆ …             │\n",
       "│ lemonade   ┆ 3.0   ┆ 2025-09-26 16:35:00 ┆ San Francisco │\n",
       "│ water      ┆ 2.0   ┆ 2025-09-30 10:23:00 ┆ Austin        │\n",
       "│ lemonade   ┆ 3.0   ┆ 2025-09-15 21:23:00 ┆ Austin        │\n",
       "│ tea        ┆ 2.5   ┆ 2025-08-07 21:14:00 ┆ New York      │\n",
       "│ cappuccino ┆ 3.5   ┆ 2025-08-23 20:51:00 ┆ San Francisco │\n",
       "└────────────┴───────┴─────────────────────┴───────────────┘"
      ]
     },
     "execution_count": 38,
     "metadata": {},
     "output_type": "execute_result"
    }
   ],
   "source": [
    "\n",
    "coffee_sales.filter(pl.col(\"city\") != \"Los Angeles\")"
   ]
  },
  {
   "cell_type": "code",
   "execution_count": null,
   "id": "c7d6235b",
   "metadata": {},
   "outputs": [
    {
     "data": {
      "text/html": [
       "<div><style>\n",
       ".dataframe > thead > tr,\n",
       ".dataframe > tbody > tr {\n",
       "  text-align: right;\n",
       "  white-space: pre-wrap;\n",
       "}\n",
       "</style>\n",
       "<small>shape: (208, 4)</small><table border=\"1\" class=\"dataframe\"><thead><tr><th>drink</th><th>price</th><th>timestamp</th><th>city</th></tr><tr><td>str</td><td>f64</td><td>datetime[μs]</td><td>str</td></tr></thead><tbody><tr><td>&quot;lemonade&quot;</td><td>3.0</td><td>2025-09-07 13:02:00</td><td>&quot;New York&quot;</td></tr><tr><td>&quot;lemonade&quot;</td><td>3.0</td><td>2025-09-05 06:45:00</td><td>&quot;New York&quot;</td></tr><tr><td>&quot;espresso&quot;</td><td>3.0</td><td>2025-09-18 05:44:00</td><td>&quot;New York&quot;</td></tr><tr><td>&quot;espresso&quot;</td><td>3.0</td><td>2025-08-06 12:06:00</td><td>&quot;New York&quot;</td></tr><tr><td>&quot;tea&quot;</td><td>2.5</td><td>2025-09-05 09:53:00</td><td>&quot;New York&quot;</td></tr><tr><td>&hellip;</td><td>&hellip;</td><td>&hellip;</td><td>&hellip;</td></tr><tr><td>&quot;lemonade&quot;</td><td>3.0</td><td>2025-08-28 21:46:00</td><td>&quot;New York&quot;</td></tr><tr><td>&quot;lemonade&quot;</td><td>3.0</td><td>2025-08-01 20:59:00</td><td>&quot;New York&quot;</td></tr><tr><td>&quot;water&quot;</td><td>2.0</td><td>2025-09-18 15:20:00</td><td>&quot;New York&quot;</td></tr><tr><td>&quot;tea&quot;</td><td>2.5</td><td>2025-08-07 12:26:00</td><td>&quot;New York&quot;</td></tr><tr><td>&quot;tea&quot;</td><td>2.5</td><td>2025-08-07 21:14:00</td><td>&quot;New York&quot;</td></tr></tbody></table></div>"
      ],
      "text/plain": [
       "shape: (208, 4)\n",
       "┌──────────┬───────┬─────────────────────┬──────────┐\n",
       "│ drink    ┆ price ┆ timestamp           ┆ city     │\n",
       "│ ---      ┆ ---   ┆ ---                 ┆ ---      │\n",
       "│ str      ┆ f64   ┆ datetime[μs]        ┆ str      │\n",
       "╞══════════╪═══════╪═════════════════════╪══════════╡\n",
       "│ lemonade ┆ 3.0   ┆ 2025-09-07 13:02:00 ┆ New York │\n",
       "│ lemonade ┆ 3.0   ┆ 2025-09-05 06:45:00 ┆ New York │\n",
       "│ espresso ┆ 3.0   ┆ 2025-09-18 05:44:00 ┆ New York │\n",
       "│ espresso ┆ 3.0   ┆ 2025-08-06 12:06:00 ┆ New York │\n",
       "│ tea      ┆ 2.5   ┆ 2025-09-05 09:53:00 ┆ New York │\n",
       "│ …        ┆ …     ┆ …                   ┆ …        │\n",
       "│ lemonade ┆ 3.0   ┆ 2025-08-28 21:46:00 ┆ New York │\n",
       "│ lemonade ┆ 3.0   ┆ 2025-08-01 20:59:00 ┆ New York │\n",
       "│ water    ┆ 2.0   ┆ 2025-09-18 15:20:00 ┆ New York │\n",
       "│ tea      ┆ 2.5   ┆ 2025-08-07 12:26:00 ┆ New York │\n",
       "│ tea      ┆ 2.5   ┆ 2025-08-07 21:14:00 ┆ New York │\n",
       "└──────────┴───────┴─────────────────────┴──────────┘"
      ]
     },
     "execution_count": 39,
     "metadata": {},
     "output_type": "execute_result"
    }
   ],
   "source": [
    "# compound filters parallel to pandas\n",
    "coffee_sales.filter(\n",
    "    # combine conditions with & (AND) and | (OR)\n",
    "\n",
    "    # price condition\n",
    "    (pl.col(\"price\") <= 3) &\n",
    "\n",
    "    # city conditiion\n",
    "    (\n",
    "        (pl.col(\"city\") == \"Berlin\") | \n",
    "        (pl.col(\"city\") == \"New York\")\n",
    "    )\n",
    ")"
   ]
  },
  {
   "cell_type": "code",
   "execution_count": 40,
   "id": "346aaca0",
   "metadata": {},
   "outputs": [
    {
     "data": {
      "text/html": [
       "[([(col(\"drink\")) == (\"water\")]) | ([(col(\"drink\")) == (\"espresso\")])]"
      ],
      "text/plain": [
       "<Expr ['[([(col(\"drink\")) == (\"water\")…'] at 0x76B51964B950>"
      ]
     },
     "execution_count": 40,
     "metadata": {},
     "output_type": "execute_result"
    }
   ],
   "source": [
    "# compound filter expression\n",
    "# no mask and no index in contrast to pandas\n",
    "water_or_espresso = (pl.col(\"drink\") == \"water\") | (pl.col(\"drink\") == \"espresso\")\n",
    "water_or_espresso"
   ]
  },
  {
   "cell_type": "code",
   "execution_count": 41,
   "id": "568dded0",
   "metadata": {},
   "outputs": [
    {
     "data": {
      "text/html": [
       "<div><style>\n",
       ".dataframe > thead > tr,\n",
       ".dataframe > tbody > tr {\n",
       "  text-align: right;\n",
       "  white-space: pre-wrap;\n",
       "}\n",
       "</style>\n",
       "<small>shape: (406, 4)</small><table border=\"1\" class=\"dataframe\"><thead><tr><th>drink</th><th>price</th><th>timestamp</th><th>city</th></tr><tr><td>str</td><td>f64</td><td>datetime[μs]</td><td>str</td></tr></thead><tbody><tr><td>&quot;water&quot;</td><td>2.0</td><td>2025-09-17 03:43:00</td><td>&quot;Los Angeles&quot;</td></tr><tr><td>&quot;espresso&quot;</td><td>3.0</td><td>2025-09-18 05:44:00</td><td>&quot;New York&quot;</td></tr><tr><td>&quot;espresso&quot;</td><td>3.0</td><td>2025-08-06 12:06:00</td><td>&quot;New York&quot;</td></tr><tr><td>&quot;espresso&quot;</td><td>3.0</td><td>2025-09-08 08:51:00</td><td>&quot;San Francisco&quot;</td></tr><tr><td>&quot;espresso&quot;</td><td>3.0</td><td>2025-09-24 07:55:00</td><td>&quot;New York&quot;</td></tr><tr><td>&hellip;</td><td>&hellip;</td><td>&hellip;</td><td>&hellip;</td></tr><tr><td>&quot;water&quot;</td><td>2.0</td><td>2025-09-24 15:55:00</td><td>&quot;Austin&quot;</td></tr><tr><td>&quot;water&quot;</td><td>2.0</td><td>2025-09-18 15:20:00</td><td>&quot;New York&quot;</td></tr><tr><td>&quot;water&quot;</td><td>2.0</td><td>2025-08-18 01:32:00</td><td>&quot;San Francisco&quot;</td></tr><tr><td>&quot;water&quot;</td><td>2.0</td><td>2025-08-26 07:05:00</td><td>&quot;Austin&quot;</td></tr><tr><td>&quot;water&quot;</td><td>2.0</td><td>2025-09-30 10:23:00</td><td>&quot;Austin&quot;</td></tr></tbody></table></div>"
      ],
      "text/plain": [
       "shape: (406, 4)\n",
       "┌──────────┬───────┬─────────────────────┬───────────────┐\n",
       "│ drink    ┆ price ┆ timestamp           ┆ city          │\n",
       "│ ---      ┆ ---   ┆ ---                 ┆ ---           │\n",
       "│ str      ┆ f64   ┆ datetime[μs]        ┆ str           │\n",
       "╞══════════╪═══════╪═════════════════════╪═══════════════╡\n",
       "│ water    ┆ 2.0   ┆ 2025-09-17 03:43:00 ┆ Los Angeles   │\n",
       "│ espresso ┆ 3.0   ┆ 2025-09-18 05:44:00 ┆ New York      │\n",
       "│ espresso ┆ 3.0   ┆ 2025-08-06 12:06:00 ┆ New York      │\n",
       "│ espresso ┆ 3.0   ┆ 2025-09-08 08:51:00 ┆ San Francisco │\n",
       "│ espresso ┆ 3.0   ┆ 2025-09-24 07:55:00 ┆ New York      │\n",
       "│ …        ┆ …     ┆ …                   ┆ …             │\n",
       "│ water    ┆ 2.0   ┆ 2025-09-24 15:55:00 ┆ Austin        │\n",
       "│ water    ┆ 2.0   ┆ 2025-09-18 15:20:00 ┆ New York      │\n",
       "│ water    ┆ 2.0   ┆ 2025-08-18 01:32:00 ┆ San Francisco │\n",
       "│ water    ┆ 2.0   ┆ 2025-08-26 07:05:00 ┆ Austin        │\n",
       "│ water    ┆ 2.0   ┆ 2025-09-30 10:23:00 ┆ Austin        │\n",
       "└──────────┴───────┴─────────────────────┴───────────────┘"
      ]
     },
     "execution_count": 41,
     "metadata": {},
     "output_type": "execute_result"
    }
   ],
   "source": [
    "# apply column expression in `filter` context\n",
    "# boolean mask used under the hood\n",
    "coffee_sales.filter(water_or_espresso)"
   ]
  },
  {
   "cell_type": "code",
   "execution_count": 42,
   "id": "2c2820a7",
   "metadata": {},
   "outputs": [
    {
     "data": {
      "text/html": [
       "<div><style>\n",
       ".dataframe > thead > tr,\n",
       ".dataframe > tbody > tr {\n",
       "  text-align: right;\n",
       "  white-space: pre-wrap;\n",
       "}\n",
       "</style>\n",
       "<small>shape: (212, 4)</small><table border=\"1\" class=\"dataframe\"><thead><tr><th>drink</th><th>price</th><th>timestamp</th><th>city</th></tr><tr><td>str</td><td>f64</td><td>datetime[μs]</td><td>str</td></tr></thead><tbody><tr><td>&quot;espresso&quot;</td><td>3.0</td><td>2025-09-18 05:44:00</td><td>&quot;New York&quot;</td></tr><tr><td>&quot;espresso&quot;</td><td>3.0</td><td>2025-08-06 12:06:00</td><td>&quot;New York&quot;</td></tr><tr><td>&quot;espresso&quot;</td><td>3.0</td><td>2025-09-24 07:55:00</td><td>&quot;New York&quot;</td></tr><tr><td>&quot;espresso&quot;</td><td>3.0</td><td>2025-09-08 20:10:00</td><td>&quot;New York&quot;</td></tr><tr><td>&quot;espresso&quot;</td><td>3.0</td><td>2025-08-18 02:13:00</td><td>&quot;Austin&quot;</td></tr><tr><td>&hellip;</td><td>&hellip;</td><td>&hellip;</td><td>&hellip;</td></tr><tr><td>&quot;water&quot;</td><td>2.0</td><td>2025-08-23 21:43:00</td><td>&quot;Austin&quot;</td></tr><tr><td>&quot;water&quot;</td><td>2.0</td><td>2025-09-24 15:55:00</td><td>&quot;Austin&quot;</td></tr><tr><td>&quot;water&quot;</td><td>2.0</td><td>2025-09-18 15:20:00</td><td>&quot;New York&quot;</td></tr><tr><td>&quot;water&quot;</td><td>2.0</td><td>2025-08-26 07:05:00</td><td>&quot;Austin&quot;</td></tr><tr><td>&quot;water&quot;</td><td>2.0</td><td>2025-09-30 10:23:00</td><td>&quot;Austin&quot;</td></tr></tbody></table></div>"
      ],
      "text/plain": [
       "shape: (212, 4)\n",
       "┌──────────┬───────┬─────────────────────┬──────────┐\n",
       "│ drink    ┆ price ┆ timestamp           ┆ city     │\n",
       "│ ---      ┆ ---   ┆ ---                 ┆ ---      │\n",
       "│ str      ┆ f64   ┆ datetime[μs]        ┆ str      │\n",
       "╞══════════╪═══════╪═════════════════════╪══════════╡\n",
       "│ espresso ┆ 3.0   ┆ 2025-09-18 05:44:00 ┆ New York │\n",
       "│ espresso ┆ 3.0   ┆ 2025-08-06 12:06:00 ┆ New York │\n",
       "│ espresso ┆ 3.0   ┆ 2025-09-24 07:55:00 ┆ New York │\n",
       "│ espresso ┆ 3.0   ┆ 2025-09-08 20:10:00 ┆ New York │\n",
       "│ espresso ┆ 3.0   ┆ 2025-08-18 02:13:00 ┆ Austin   │\n",
       "│ …        ┆ …     ┆ …                   ┆ …        │\n",
       "│ water    ┆ 2.0   ┆ 2025-08-23 21:43:00 ┆ Austin   │\n",
       "│ water    ┆ 2.0   ┆ 2025-09-24 15:55:00 ┆ Austin   │\n",
       "│ water    ┆ 2.0   ┆ 2025-09-18 15:20:00 ┆ New York │\n",
       "│ water    ┆ 2.0   ┆ 2025-08-26 07:05:00 ┆ Austin   │\n",
       "│ water    ┆ 2.0   ┆ 2025-09-30 10:23:00 ┆ Austin   │\n",
       "└──────────┴───────┴─────────────────────┴──────────┘"
      ]
     },
     "execution_count": 42,
     "metadata": {},
     "output_type": "execute_result"
    }
   ],
   "source": [
    "# use built-in operators\n",
    "# eg. `is_in`, `is_between`, `is_null`, ...\n",
    "water_or_espresso_in_austin_new_york = (\n",
    "    water_or_espresso \n",
    "    & pl.col(\"city\").is_in( [\"New York\", \"Austin\"])\n",
    ")\n",
    "\n",
    "coffee_sales.filter(water_or_espresso_in_austin_new_york)\n"
   ]
  },
  {
   "cell_type": "code",
   "execution_count": 43,
   "id": "fee0ee90",
   "metadata": {},
   "outputs": [
    {
     "data": {
      "text/html": [
       "<div><style>\n",
       ".dataframe > thead > tr,\n",
       ".dataframe > tbody > tr {\n",
       "  text-align: right;\n",
       "  white-space: pre-wrap;\n",
       "}\n",
       "</style>\n",
       "<small>shape: (815, 4)</small><table border=\"1\" class=\"dataframe\"><thead><tr><th>drink</th><th>price</th><th>timestamp</th><th>city</th></tr><tr><td>str</td><td>f64</td><td>datetime[μs]</td><td>str</td></tr></thead><tbody><tr><td>&quot;water&quot;</td><td>2.0</td><td>2025-09-17 03:43:00</td><td>&quot;Los Angeles&quot;</td></tr><tr><td>&quot;lemonade&quot;</td><td>3.0</td><td>2025-09-07 13:02:00</td><td>&quot;New York&quot;</td></tr><tr><td>&quot;lemonade&quot;</td><td>3.0</td><td>2025-09-05 06:45:00</td><td>&quot;New York&quot;</td></tr><tr><td>&quot;lemonade&quot;</td><td>3.0</td><td>2025-08-15 14:37:00</td><td>&quot;Austin&quot;</td></tr><tr><td>&quot;espresso&quot;</td><td>3.0</td><td>2025-09-18 05:44:00</td><td>&quot;New York&quot;</td></tr><tr><td>&hellip;</td><td>&hellip;</td><td>&hellip;</td><td>&hellip;</td></tr><tr><td>&quot;tea&quot;</td><td>2.5</td><td>2025-08-07 12:26:00</td><td>&quot;New York&quot;</td></tr><tr><td>&quot;lemonade&quot;</td><td>3.0</td><td>2025-09-26 16:35:00</td><td>&quot;San Francisco&quot;</td></tr><tr><td>&quot;water&quot;</td><td>2.0</td><td>2025-09-30 10:23:00</td><td>&quot;Austin&quot;</td></tr><tr><td>&quot;lemonade&quot;</td><td>3.0</td><td>2025-09-15 21:23:00</td><td>&quot;Austin&quot;</td></tr><tr><td>&quot;tea&quot;</td><td>2.5</td><td>2025-08-07 21:14:00</td><td>&quot;New York&quot;</td></tr></tbody></table></div>"
      ],
      "text/plain": [
       "shape: (815, 4)\n",
       "┌──────────┬───────┬─────────────────────┬───────────────┐\n",
       "│ drink    ┆ price ┆ timestamp           ┆ city          │\n",
       "│ ---      ┆ ---   ┆ ---                 ┆ ---           │\n",
       "│ str      ┆ f64   ┆ datetime[μs]        ┆ str           │\n",
       "╞══════════╪═══════╪═════════════════════╪═══════════════╡\n",
       "│ water    ┆ 2.0   ┆ 2025-09-17 03:43:00 ┆ Los Angeles   │\n",
       "│ lemonade ┆ 3.0   ┆ 2025-09-07 13:02:00 ┆ New York      │\n",
       "│ lemonade ┆ 3.0   ┆ 2025-09-05 06:45:00 ┆ New York      │\n",
       "│ lemonade ┆ 3.0   ┆ 2025-08-15 14:37:00 ┆ Austin        │\n",
       "│ espresso ┆ 3.0   ┆ 2025-09-18 05:44:00 ┆ New York      │\n",
       "│ …        ┆ …     ┆ …                   ┆ …             │\n",
       "│ tea      ┆ 2.5   ┆ 2025-08-07 12:26:00 ┆ New York      │\n",
       "│ lemonade ┆ 3.0   ┆ 2025-09-26 16:35:00 ┆ San Francisco │\n",
       "│ water    ┆ 2.0   ┆ 2025-09-30 10:23:00 ┆ Austin        │\n",
       "│ lemonade ┆ 3.0   ┆ 2025-09-15 21:23:00 ┆ Austin        │\n",
       "│ tea      ┆ 2.5   ┆ 2025-08-07 21:14:00 ┆ New York      │\n",
       "└──────────┴───────┴─────────────────────┴───────────────┘"
      ]
     },
     "execution_count": 43,
     "metadata": {},
     "output_type": "execute_result"
    }
   ],
   "source": [
    "# inclusive bounds\n",
    "coffee_sales.filter(pl.col(\"price\").is_between(2.0, 3.0))      "
   ]
  },
  {
   "cell_type": "code",
   "execution_count": 44,
   "id": "de7c3325",
   "metadata": {},
   "outputs": [
    {
     "data": {
      "text/html": [
       "<div><style>\n",
       ".dataframe > thead > tr,\n",
       ".dataframe > tbody > tr {\n",
       "  text-align: right;\n",
       "  white-space: pre-wrap;\n",
       "}\n",
       "</style>\n",
       "<small>shape: (5, 4)</small><table border=\"1\" class=\"dataframe\"><thead><tr><th>drink</th><th>price</th><th>timestamp</th><th>city</th></tr><tr><td>str</td><td>f64</td><td>datetime[μs]</td><td>str</td></tr></thead><tbody><tr><td>&quot;cappuccino&quot;</td><td>3.5</td><td>2025-09-17 08:15:00</td><td>&quot;New York&quot;</td></tr><tr><td>&quot;lemonade&quot;</td><td>3.0</td><td>2025-09-07 13:02:00</td><td>&quot;New York&quot;</td></tr><tr><td>&quot;cappuccino&quot;</td><td>3.5</td><td>2025-08-14 07:32:00</td><td>&quot;New York&quot;</td></tr><tr><td>&quot;lemonade&quot;</td><td>3.0</td><td>2025-09-05 06:45:00</td><td>&quot;New York&quot;</td></tr><tr><td>&quot;lemonade&quot;</td><td>3.0</td><td>2025-08-15 14:37:00</td><td>&quot;Austin&quot;</td></tr></tbody></table></div>"
      ],
      "text/plain": [
       "shape: (5, 4)\n",
       "┌────────────┬───────┬─────────────────────┬──────────┐\n",
       "│ drink      ┆ price ┆ timestamp           ┆ city     │\n",
       "│ ---        ┆ ---   ┆ ---                 ┆ ---      │\n",
       "│ str        ┆ f64   ┆ datetime[μs]        ┆ str      │\n",
       "╞════════════╪═══════╪═════════════════════╪══════════╡\n",
       "│ cappuccino ┆ 3.5   ┆ 2025-09-17 08:15:00 ┆ New York │\n",
       "│ lemonade   ┆ 3.0   ┆ 2025-09-07 13:02:00 ┆ New York │\n",
       "│ cappuccino ┆ 3.5   ┆ 2025-08-14 07:32:00 ┆ New York │\n",
       "│ lemonade   ┆ 3.0   ┆ 2025-09-05 06:45:00 ┆ New York │\n",
       "│ lemonade   ┆ 3.0   ┆ 2025-08-15 14:37:00 ┆ Austin   │\n",
       "└────────────┴───────┴─────────────────────┴──────────┘"
      ]
     },
     "execution_count": 44,
     "metadata": {},
     "output_type": "execute_result"
    }
   ],
   "source": [
    "# negate filters using ~ (not)\n",
    "coffee_sales.filter(~water_or_espresso).head(5)"
   ]
  },
  {
   "cell_type": "code",
   "execution_count": 45,
   "id": "24ee5df7",
   "metadata": {},
   "outputs": [
    {
     "data": {
      "text/html": [
       "<div><style>\n",
       ".dataframe > thead > tr,\n",
       ".dataframe > tbody > tr {\n",
       "  text-align: right;\n",
       "  white-space: pre-wrap;\n",
       "}\n",
       "</style>\n",
       "<small>shape: (474, 4)</small><table border=\"1\" class=\"dataframe\"><thead><tr><th>drink</th><th>price</th><th>timestamp</th><th>city</th></tr><tr><td>str</td><td>f64</td><td>datetime[μs]</td><td>str</td></tr></thead><tbody><tr><td>&quot;water&quot;</td><td>2.0</td><td>2025-09-17 03:43:00</td><td>&quot;Los Angeles&quot;</td></tr><tr><td>&quot;tea&quot;</td><td>2.5</td><td>2025-08-18 04:13:00</td><td>&quot;San Francisco&quot;</td></tr><tr><td>&quot;espresso&quot;</td><td>3.0</td><td>2025-09-08 08:51:00</td><td>&quot;San Francisco&quot;</td></tr><tr><td>&quot;lemonade&quot;</td><td>3.0</td><td>2025-09-06 06:45:00</td><td>&quot;San Francisco&quot;</td></tr><tr><td>&quot;espresso&quot;</td><td>3.0</td><td>2025-08-24 11:13:00</td><td>&quot;Los Angeles&quot;</td></tr><tr><td>&hellip;</td><td>&hellip;</td><td>&hellip;</td><td>&hellip;</td></tr><tr><td>&quot;tea&quot;</td><td>2.5</td><td>2025-09-23 17:57:00</td><td>&quot;Los Angeles&quot;</td></tr><tr><td>&quot;water&quot;</td><td>2.0</td><td>2025-08-18 01:32:00</td><td>&quot;San Francisco&quot;</td></tr><tr><td>&quot;lemonade&quot;</td><td>3.0</td><td>2025-09-26 16:35:00</td><td>&quot;San Francisco&quot;</td></tr><tr><td>&quot;cappuccino&quot;</td><td>3.5</td><td>2025-09-24 14:21:00</td><td>&quot;Los Angeles&quot;</td></tr><tr><td>&quot;cappuccino&quot;</td><td>3.5</td><td>2025-08-23 20:51:00</td><td>&quot;San Francisco&quot;</td></tr></tbody></table></div>"
      ],
      "text/plain": [
       "shape: (474, 4)\n",
       "┌────────────┬───────┬─────────────────────┬───────────────┐\n",
       "│ drink      ┆ price ┆ timestamp           ┆ city          │\n",
       "│ ---        ┆ ---   ┆ ---                 ┆ ---           │\n",
       "│ str        ┆ f64   ┆ datetime[μs]        ┆ str           │\n",
       "╞════════════╪═══════╪═════════════════════╪═══════════════╡\n",
       "│ water      ┆ 2.0   ┆ 2025-09-17 03:43:00 ┆ Los Angeles   │\n",
       "│ tea        ┆ 2.5   ┆ 2025-08-18 04:13:00 ┆ San Francisco │\n",
       "│ espresso   ┆ 3.0   ┆ 2025-09-08 08:51:00 ┆ San Francisco │\n",
       "│ lemonade   ┆ 3.0   ┆ 2025-09-06 06:45:00 ┆ San Francisco │\n",
       "│ espresso   ┆ 3.0   ┆ 2025-08-24 11:13:00 ┆ Los Angeles   │\n",
       "│ …          ┆ …     ┆ …                   ┆ …             │\n",
       "│ tea        ┆ 2.5   ┆ 2025-09-23 17:57:00 ┆ Los Angeles   │\n",
       "│ water      ┆ 2.0   ┆ 2025-08-18 01:32:00 ┆ San Francisco │\n",
       "│ lemonade   ┆ 3.0   ┆ 2025-09-26 16:35:00 ┆ San Francisco │\n",
       "│ cappuccino ┆ 3.5   ┆ 2025-09-24 14:21:00 ┆ Los Angeles   │\n",
       "│ cappuccino ┆ 3.5   ┆ 2025-08-23 20:51:00 ┆ San Francisco │\n",
       "└────────────┴───────┴─────────────────────┴───────────────┘"
      ]
     },
     "execution_count": 45,
     "metadata": {},
     "output_type": "execute_result"
    }
   ],
   "source": [
    "# create \"not `is_in`\"\n",
    "coffee_sales.filter(~(pl.col('city').is_in(['New York','Austin'])))\n"
   ]
  },
  {
   "cell_type": "markdown",
   "id": "c076a866",
   "metadata": {},
   "source": [
    "## Combine Operations\n"
   ]
  },
  {
   "cell_type": "code",
   "execution_count": 47,
   "id": "8efb82b9",
   "metadata": {},
   "outputs": [
    {
     "data": {
      "text/html": [
       "<div><style>\n",
       ".dataframe > thead > tr,\n",
       ".dataframe > tbody > tr {\n",
       "  text-align: right;\n",
       "  white-space: pre-wrap;\n",
       "}\n",
       "</style>\n",
       "<small>shape: (212, 3)</small><table border=\"1\" class=\"dataframe\"><thead><tr><th>price</th><th>drink</th><th>city</th></tr><tr><td>f64</td><td>str</td><td>str</td></tr></thead><tbody><tr><td>3.0</td><td>&quot;espresso&quot;</td><td>&quot;New York&quot;</td></tr><tr><td>3.0</td><td>&quot;espresso&quot;</td><td>&quot;New York&quot;</td></tr><tr><td>3.0</td><td>&quot;espresso&quot;</td><td>&quot;New York&quot;</td></tr><tr><td>3.0</td><td>&quot;espresso&quot;</td><td>&quot;New York&quot;</td></tr><tr><td>3.0</td><td>&quot;espresso&quot;</td><td>&quot;Austin&quot;</td></tr><tr><td>&hellip;</td><td>&hellip;</td><td>&hellip;</td></tr><tr><td>2.0</td><td>&quot;water&quot;</td><td>&quot;Austin&quot;</td></tr><tr><td>2.0</td><td>&quot;water&quot;</td><td>&quot;Austin&quot;</td></tr><tr><td>2.0</td><td>&quot;water&quot;</td><td>&quot;New York&quot;</td></tr><tr><td>2.0</td><td>&quot;water&quot;</td><td>&quot;Austin&quot;</td></tr><tr><td>2.0</td><td>&quot;water&quot;</td><td>&quot;Austin&quot;</td></tr></tbody></table></div>"
      ],
      "text/plain": [
       "shape: (212, 3)\n",
       "┌───────┬──────────┬──────────┐\n",
       "│ price ┆ drink    ┆ city     │\n",
       "│ ---   ┆ ---      ┆ ---      │\n",
       "│ f64   ┆ str      ┆ str      │\n",
       "╞═══════╪══════════╪══════════╡\n",
       "│ 3.0   ┆ espresso ┆ New York │\n",
       "│ 3.0   ┆ espresso ┆ New York │\n",
       "│ 3.0   ┆ espresso ┆ New York │\n",
       "│ 3.0   ┆ espresso ┆ New York │\n",
       "│ 3.0   ┆ espresso ┆ Austin   │\n",
       "│ …     ┆ …        ┆ …        │\n",
       "│ 2.0   ┆ water    ┆ Austin   │\n",
       "│ 2.0   ┆ water    ┆ Austin   │\n",
       "│ 2.0   ┆ water    ┆ New York │\n",
       "│ 2.0   ┆ water    ┆ Austin   │\n",
       "│ 2.0   ┆ water    ┆ Austin   │\n",
       "└───────┴──────────┴──────────┘"
      ]
     },
     "execution_count": 47,
     "metadata": {},
     "output_type": "execute_result"
    }
   ],
   "source": [
    "#  Safe chaining due to new DataFrames\n",
    "# `.filter()` -> DataFrame\n",
    "# `.select()` -> DataFrame\n",
    "\n",
    "filtered_selection = coffee_sales.filter(water_or_espresso_in_austin_new_york).select(\n",
    "    pl.col(\"price\", \"drink\",'city')\n",
    ")\n",
    "filtered_selection\n"
   ]
  },
  {
   "cell_type": "markdown",
   "id": "1ce5b0fe",
   "metadata": {},
   "source": [
    "## Wrap Up\n"
   ]
  },
  {
   "cell_type": "markdown",
   "id": "8f7064ea",
   "metadata": {},
   "source": [
    "- `pl.col()` → creates column expressions\n",
    "- `.select()` → subset columns\n",
    "- `.filter()` → subset rows\n",
    "- Use `&`, `|`, and `~` for logic\n",
    "- Operations return **new DataFrames**, enabling safe chaining\n",
    "- Parallels to pandas but cleaner, index-free syntax\n"
   ]
  },
  {
   "cell_type": "code",
   "execution_count": null,
   "id": "905e9582",
   "metadata": {},
   "outputs": [
    {
     "name": "stdout",
     "output_type": "stream",
     "text": [
      "Done - Happy Coding\n"
     ]
    }
   ],
   "source": [
    "# 🔍 Polars Select & Filter\n",
    "\n",
    "# Cheatsheet on GitHub\n",
    "\n",
    "# SELECT\n",
    "df.select(pl.col(\"name\",\"age\"))\n",
    "df.select(pl.col(\"^na.*$\"))                    # pattern\n",
    "df.select(pl.col(pl.String))       # by dtype\n",
    "\n",
    "# FILTER\n",
    "coffee_sales.filter(pl.col(\"price\") > 3)\n",
    "coffee_sales.filter((pl.col(\"price\") <= 3) & (pl.col(\"drink\").is_in([\"water\",\"espresso\"])))\n",
    "coffee_sales.filter(~(pl.col(\"city\") == \"Los Angeles\"))\n",
    "\n",
    "# CHAIN\n",
    "coffee_sales.filter(pl.col(\"city\").is_in([\"Austin\",\"New York\"])) \\\n",
    "  .select(pl.col(\"drink\",\"price\",\"timestamp\"))\n",
    "\n",
    "\n",
    "print(\"Done - Happy Coding\")"
   ]
  }
 ],
 "metadata": {
  "kernelspec": {
   "display_name": "polars-beginner-series",
   "language": "python",
   "name": "python3"
  },
  "language_info": {
   "codemirror_mode": {
    "name": "ipython",
    "version": 3
   },
   "file_extension": ".py",
   "mimetype": "text/x-python",
   "name": "python",
   "nbconvert_exporter": "python",
   "pygments_lexer": "ipython3",
   "version": "3.13.8"
  }
 },
 "nbformat": 4,
 "nbformat_minor": 5
}
